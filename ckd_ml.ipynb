{
 "cells": [
  {
   "cell_type": "code",
   "execution_count": 1,
   "metadata": {},
   "outputs": [],
   "source": [
    "import numpy as np\n",
    "import pandas as pd\n",
    "import missingno as msno\n",
    "import sklearn.metrics as m\n",
    "import plotly.express as px\n",
    "import matplotlib.pyplot as plt\n",
    "from sklearn.impute import SimpleImputer\n",
    "from sklearn.pipeline import Pipeline\n",
    "from sklearn.preprocessing import StandardScaler, OneHotEncoder\n",
    "from sklearn.model_selection import train_test_split\n",
    "# cross validation\n",
    "from sklearn.model_selection import cross_val_score\n",
    "# grid search\n",
    "from sklearn.model_selection import GridSearchCV\n",
    "# outlier\n",
    "from sklearn.neighbors import LocalOutlierFactor\n",
    "# imblearn\n",
    "from imblearn.over_sampling import SMOTE\n",
    "# compare models\n",
    "from sklearn.metrics import accuracy_score, confusion_matrix, classification_report, roc_auc_score, roc_curve, precision_score, recall_score, f1_score\n",
    "# compose pipeline\n",
    "from sklearn.pipeline import Pipeline\n",
    "from sklearn.compose import ColumnTransformer\n",
    "# feature selection\n",
    "from sklearn.feature_selection import SelectKBest, chi2, RFECV\n",
    "# models\n",
    "from sklearn.linear_model import LogisticRegression\n",
    "from sklearn.tree import DecisionTreeClassifier\n",
    "from sklearn.ensemble import RandomForestClassifier, AdaBoostClassifier, GradientBoostingClassifier, VotingClassifier\n",
    "from sklearn.svm import SVC\n",
    "from sklearn.neighbors import KNeighborsClassifier\n",
    "from sklearn.naive_bayes import GaussianNB\n",
    "# save model\n",
    "import joblib\n",
    "import seaborn as sns"
   ]
  },
  {
   "cell_type": "code",
   "execution_count": 2,
   "metadata": {},
   "outputs": [
    {
     "name": "stdout",
     "output_type": "stream",
     "text": [
      "<class 'pandas.core.frame.DataFrame'>\n",
      "RangeIndex: 400 entries, 0 to 399\n",
      "Data columns (total 26 columns):\n",
      " #   Column          Non-Null Count  Dtype  \n",
      "---  ------          --------------  -----  \n",
      " 0   id              400 non-null    int64  \n",
      " 1   age             391 non-null    float64\n",
      " 2   bp              388 non-null    float64\n",
      " 3   sg              353 non-null    float64\n",
      " 4   al              354 non-null    float64\n",
      " 5   su              351 non-null    float64\n",
      " 6   rbc             248 non-null    object \n",
      " 7   pc              335 non-null    object \n",
      " 8   pcc             396 non-null    object \n",
      " 9   ba              396 non-null    object \n",
      " 10  bgr             356 non-null    float64\n",
      " 11  bu              381 non-null    float64\n",
      " 12  sc              383 non-null    float64\n",
      " 13  sod             313 non-null    float64\n",
      " 14  pot             312 non-null    float64\n",
      " 15  hemo            348 non-null    float64\n",
      " 16  pcv             330 non-null    object \n",
      " 17  wc              295 non-null    object \n",
      " 18  rc              270 non-null    object \n",
      " 19  htn             398 non-null    object \n",
      " 20  dm              398 non-null    object \n",
      " 21  cad             398 non-null    object \n",
      " 22  appet           399 non-null    object \n",
      " 23  pe              399 non-null    object \n",
      " 24  ane             399 non-null    object \n",
      " 25  classification  400 non-null    object \n",
      "dtypes: float64(11), int64(1), object(14)\n",
      "memory usage: 81.4+ KB\n"
     ]
    }
   ],
   "source": [
    "# load and read data\n",
    "df = pd.read_csv('kidney_disease.csv')\n",
    "df.info()"
   ]
  },
  {
   "cell_type": "code",
   "execution_count": 3,
   "metadata": {},
   "outputs": [
    {
     "data": {
      "text/html": [
       "<div>\n",
       "<style scoped>\n",
       "    .dataframe tbody tr th:only-of-type {\n",
       "        vertical-align: middle;\n",
       "    }\n",
       "\n",
       "    .dataframe tbody tr th {\n",
       "        vertical-align: top;\n",
       "    }\n",
       "\n",
       "    .dataframe thead th {\n",
       "        text-align: right;\n",
       "    }\n",
       "</style>\n",
       "<table border=\"1\" class=\"dataframe\">\n",
       "  <thead>\n",
       "    <tr style=\"text-align: right;\">\n",
       "      <th></th>\n",
       "      <th>id</th>\n",
       "      <th>age</th>\n",
       "      <th>bp</th>\n",
       "      <th>sg</th>\n",
       "      <th>al</th>\n",
       "      <th>su</th>\n",
       "      <th>rbc</th>\n",
       "      <th>pc</th>\n",
       "      <th>pcc</th>\n",
       "      <th>ba</th>\n",
       "      <th>...</th>\n",
       "      <th>pcv</th>\n",
       "      <th>wc</th>\n",
       "      <th>rc</th>\n",
       "      <th>htn</th>\n",
       "      <th>dm</th>\n",
       "      <th>cad</th>\n",
       "      <th>appet</th>\n",
       "      <th>pe</th>\n",
       "      <th>ane</th>\n",
       "      <th>classification</th>\n",
       "    </tr>\n",
       "  </thead>\n",
       "  <tbody>\n",
       "    <tr>\n",
       "      <th>0</th>\n",
       "      <td>0</td>\n",
       "      <td>48.0</td>\n",
       "      <td>80.0</td>\n",
       "      <td>1.02</td>\n",
       "      <td>1.0</td>\n",
       "      <td>0.0</td>\n",
       "      <td>NaN</td>\n",
       "      <td>normal</td>\n",
       "      <td>notpresent</td>\n",
       "      <td>notpresent</td>\n",
       "      <td>...</td>\n",
       "      <td>44</td>\n",
       "      <td>7800</td>\n",
       "      <td>5.2</td>\n",
       "      <td>yes</td>\n",
       "      <td>yes</td>\n",
       "      <td>no</td>\n",
       "      <td>good</td>\n",
       "      <td>no</td>\n",
       "      <td>no</td>\n",
       "      <td>ckd</td>\n",
       "    </tr>\n",
       "    <tr>\n",
       "      <th>1</th>\n",
       "      <td>1</td>\n",
       "      <td>7.0</td>\n",
       "      <td>50.0</td>\n",
       "      <td>1.02</td>\n",
       "      <td>4.0</td>\n",
       "      <td>0.0</td>\n",
       "      <td>NaN</td>\n",
       "      <td>normal</td>\n",
       "      <td>notpresent</td>\n",
       "      <td>notpresent</td>\n",
       "      <td>...</td>\n",
       "      <td>38</td>\n",
       "      <td>6000</td>\n",
       "      <td>NaN</td>\n",
       "      <td>no</td>\n",
       "      <td>no</td>\n",
       "      <td>no</td>\n",
       "      <td>good</td>\n",
       "      <td>no</td>\n",
       "      <td>no</td>\n",
       "      <td>ckd</td>\n",
       "    </tr>\n",
       "  </tbody>\n",
       "</table>\n",
       "<p>2 rows × 26 columns</p>\n",
       "</div>"
      ],
      "text/plain": [
       "   id   age    bp    sg   al   su  rbc      pc         pcc          ba  ...  \\\n",
       "0   0  48.0  80.0  1.02  1.0  0.0  NaN  normal  notpresent  notpresent  ...   \n",
       "1   1   7.0  50.0  1.02  4.0  0.0  NaN  normal  notpresent  notpresent  ...   \n",
       "\n",
       "   pcv    wc   rc  htn   dm  cad appet  pe ane classification  \n",
       "0   44  7800  5.2  yes  yes   no  good  no  no            ckd  \n",
       "1   38  6000  NaN   no   no   no  good  no  no            ckd  \n",
       "\n",
       "[2 rows x 26 columns]"
      ]
     },
     "execution_count": 3,
     "metadata": {},
     "output_type": "execute_result"
    }
   ],
   "source": [
    "df.head(2)"
   ]
  },
  {
   "cell_type": "code",
   "execution_count": 4,
   "metadata": {},
   "outputs": [],
   "source": [
    "X = df.drop(['id', 'classification'], axis=1)\n",
    "y = df['classification']"
   ]
  },
  {
   "cell_type": "code",
   "execution_count": 5,
   "metadata": {},
   "outputs": [
    {
     "name": "stdout",
     "output_type": "stream",
     "text": [
      "sg : [1.02  1.01  1.005 1.015   nan 1.025]\n",
      "al : [ 1.  4.  2.  3.  0. nan  5.]\n",
      "su : [ 0.  3.  4.  1. nan  2.  5.]\n",
      "rbc : [nan 'normal' 'abnormal']\n",
      "pc : ['normal' 'abnormal' nan]\n",
      "pcc : ['notpresent' 'present' nan]\n",
      "ba : ['notpresent' 'present' nan]\n",
      "htn : ['yes' 'no' nan]\n",
      "dm : ['yes' 'no' ' yes' '\\tno' '\\tyes' nan]\n",
      "cad : ['no' 'yes' '\\tno' nan]\n",
      "appet : ['good' 'poor' nan]\n",
      "pe : ['no' 'yes' nan]\n",
      "ane : ['no' 'yes' nan]\n"
     ]
    }
   ],
   "source": [
    "# display columns with 6 or less unique values\n",
    "for col in X.columns:\n",
    "    if X[col].nunique() <= 6:\n",
    "        print(f'{col} : {X[col].unique()}')"
   ]
  },
  {
   "cell_type": "code",
   "execution_count": 6,
   "metadata": {},
   "outputs": [
    {
     "name": "stdout",
     "output_type": "stream",
     "text": [
      "nominal columns:  ['sg', 'al', 'su']\n",
      "continuous columns:  ['age', 'bp', 'bgr', 'bu', 'sc', 'sod', 'pot', 'hemo', 'pcv', 'wc', 'rc']\n",
      "category columns:  ['rbc', 'pc', 'pcc', 'ba', 'pcv', 'wc', 'rc', 'htn', 'dm', 'cad', 'appet', 'pe', 'ane']\n"
     ]
    }
   ],
   "source": [
    "nominal_cols = [col for col in X.columns if (X[col].nunique() <= 6 and X[col].dtype != 'object')]\n",
    "continuous_cols = [col for col in X.columns if X[col].nunique() > 6]\n",
    "category_cols = [col for col in X.columns if X[col].dtype == 'object']\n",
    "print('nominal columns: ', nominal_cols)\n",
    "print('continuous columns: ', continuous_cols)\n",
    "print('category columns: ', category_cols)"
   ]
  },
  {
   "cell_type": "code",
   "execution_count": 7,
   "metadata": {},
   "outputs": [
    {
     "name": "stdout",
     "output_type": "stream",
     "text": [
      "rbc : [nan, 'normal', 'abnormal']\n",
      "pc : ['normal', 'abnormal', nan]\n",
      "pcc : ['notpresent', 'present', nan]\n",
      "ba : ['notpresent', 'present', nan]\n",
      "pcv : ['44', '38', '31', '32', '35', '39', '36', '33', '29', '28', nan, '16', '24', '37', '30', '34', '40', '45', '27', '48', '', '52', '14', '22', '18', '42', '17', '46', '23', '19', '25', '41', '26', '15', '21', '43', '20', '47', '9', '49', '50', '53', '51', '54']\n",
      "wc : ['7800', '6000', '7500', '6700', '7300', nan, '6900', '9600', '12100', '4500', '12200', '11000', '3800', '11400', '5300', '9200', '6200', '8300', '8400', '10300', '9800', '9100', '7900', '6400', '8600', '18900', '21600', '4300', '8500', '11300', '7200', '7700', '14600', '6300', '7100', '11800', '9400', '5500', '5800', '13200', '12500', '5600', '7000', '11900', '10400', '10700', '12700', '6800', '6500', '13600', '10200', '9000', '14900', '8200', '15200', '5000', '16300', '12400', '10500', '4200', '4700', '10900', '8100', '9500', '2200', '12800', '11200', '19100', '', '12300', '16700', '2600', '26400', '8800', '7400', '4900', '8000', '12000', '15700', '4100', '5700', '11500', '5400', '10800', '9900', '5200', '5900', '9300', '9700', '5100', '6600']\n",
      "rc : ['5.2', nan, '3.9', '4.6', '4.4', '5', '4.0', '3.7', '3.8', '3.4', '2.6', '2.8', '4.3', '3.2', '3.6', '4', '4.1', '4.9', '2.5', '4.2', '4.5', '3.1', '4.7', '3.5', '6.0', '5.0', '2.1', '5.6', '2.3', '2.9', '2.7', '8.0', '3.3', '3.0', '3', '2.4', '4.8', '', '5.4', '6.1', '6.2', '6.3', '5.1', '5.8', '5.5', '5.3', '6.4', '5.7', '5.9', '6.5']\n",
      "htn : ['yes', 'no', nan]\n",
      "dm : ['yes', 'no', ' yes', nan]\n",
      "cad : ['no', 'yes', nan]\n",
      "appet : ['good', 'poor', nan]\n",
      "pe : ['no', 'yes', nan]\n",
      "ane : ['no', 'yes', nan]\n"
     ]
    }
   ],
   "source": [
    "\n",
    "# remove all \\t and \\n from the data\n",
    "for col in category_cols:\n",
    "    df[col] = df[col].str.replace('\\t', '').replace('\\n', '').replace('?', '')\n",
    "\n",
    "for col in df[category_cols]:\n",
    "    print(f'{col} : {df[col].unique().tolist()}')\n"
   ]
  },
  {
   "cell_type": "code",
   "execution_count": 8,
   "metadata": {},
   "outputs": [],
   "source": [
    "# make pcv, rc and wc  columns numeric\n",
    "df['pcv'] = pd.to_numeric(df['pcv'], errors='coerce')\n",
    "df['wc'] = pd.to_numeric(df['wc'], errors='coerce')\n",
    "df['rc'] = pd.to_numeric(df['rc'], errors='coerce')"
   ]
  },
  {
   "cell_type": "code",
   "execution_count": 9,
   "metadata": {},
   "outputs": [
    {
     "name": "stdout",
     "output_type": "stream",
     "text": [
      "<class 'pandas.core.frame.DataFrame'>\n",
      "RangeIndex: 400 entries, 0 to 399\n",
      "Data columns (total 26 columns):\n",
      " #   Column          Non-Null Count  Dtype  \n",
      "---  ------          --------------  -----  \n",
      " 0   id              400 non-null    int64  \n",
      " 1   age             391 non-null    float64\n",
      " 2   bp              388 non-null    float64\n",
      " 3   sg              353 non-null    float64\n",
      " 4   al              354 non-null    float64\n",
      " 5   su              351 non-null    float64\n",
      " 6   rbc             248 non-null    object \n",
      " 7   pc              335 non-null    object \n",
      " 8   pcc             396 non-null    object \n",
      " 9   ba              396 non-null    object \n",
      " 10  bgr             356 non-null    float64\n",
      " 11  bu              381 non-null    float64\n",
      " 12  sc              383 non-null    float64\n",
      " 13  sod             313 non-null    float64\n",
      " 14  pot             312 non-null    float64\n",
      " 15  hemo            348 non-null    float64\n",
      " 16  pcv             329 non-null    float64\n",
      " 17  wc              294 non-null    float64\n",
      " 18  rc              269 non-null    float64\n",
      " 19  htn             398 non-null    object \n",
      " 20  dm              398 non-null    object \n",
      " 21  cad             398 non-null    object \n",
      " 22  appet           399 non-null    object \n",
      " 23  pe              399 non-null    object \n",
      " 24  ane             399 non-null    object \n",
      " 25  classification  400 non-null    object \n",
      "dtypes: float64(14), int64(1), object(11)\n",
      "memory usage: 81.4+ KB\n"
     ]
    }
   ],
   "source": [
    "df.info()"
   ]
  },
  {
   "cell_type": "code",
   "execution_count": 10,
   "metadata": {},
   "outputs": [
    {
     "name": "stdout",
     "output_type": "stream",
     "text": [
      "nominal columns:  ['sg', 'al', 'su']\n",
      "continuous columns:  ['age', 'bp', 'bgr', 'bu', 'sc', 'sod', 'pot', 'hemo', 'pcv', 'wc', 'rc']\n",
      "category columns:  ['rbc', 'pc', 'pcc', 'ba', 'htn', 'dm', 'cad', 'appet', 'pe', 'ane']\n"
     ]
    }
   ],
   "source": [
    "#  update nominal_cols, continuous_cols, category_cols\n",
    "X = df.drop(['id', 'classification'], axis=1)\n",
    "y = df['classification']\n",
    "# \\t from y\n",
    "y = y.str.replace('\\t', '').replace('\\n', '').replace('?', '')\n",
    "y = y.replace({'ckd': 1, 'notckd': 0})\n",
    "nominal_cols = [col for col in X.columns if (X[col].nunique() <= 6 and X[col].dtype != 'object')]\n",
    "continuous_cols = [col for col in X.columns if X[col].nunique() > 6]\n",
    "category_cols = [col for col in X.columns if X[col].dtype == 'object']\n",
    "print('nominal columns: ', nominal_cols)\n",
    "print('continuous columns: ', continuous_cols)\n",
    "print('category columns: ', category_cols)"
   ]
  },
  {
   "cell_type": "code",
   "execution_count": 11,
   "metadata": {},
   "outputs": [
    {
     "data": {
      "text/plain": [
       "array([[ 0.4214856 ,  0.07624929, -0.38026942, ...,  0.        ,\n",
       "         0.        ,  0.        ],\n",
       "       [ 0.4214856 ,  2.36372784, -0.38026942, ...,  0.        ,\n",
       "         0.        ,  0.        ],\n",
       "       [-1.4210744 ,  0.83874214,  2.50785277, ...,  1.        ,\n",
       "         0.        ,  1.        ],\n",
       "       ...,\n",
       "       [ 0.4214856 , -0.68624357, -0.38026942, ...,  0.        ,\n",
       "         0.        ,  0.        ],\n",
       "       [ 1.3427656 , -0.68624357, -0.38026942, ...,  0.        ,\n",
       "         0.        ,  0.        ],\n",
       "       [ 1.3427656 , -0.68624357, -0.38026942, ...,  0.        ,\n",
       "         0.        ,  0.        ]])"
      ]
     },
     "execution_count": 11,
     "metadata": {},
     "output_type": "execute_result"
    }
   ],
   "source": [
    "prepNominal = Pipeline([\n",
    "    ('imputer', SimpleImputer(strategy='most_frequent')),\n",
    "    ('scaler', StandardScaler())\n",
    "])\n",
    "prepContinuous = Pipeline([\n",
    "    ('imputer', SimpleImputer(strategy='median')),\n",
    "    ('scaler', StandardScaler())\n",
    "])\n",
    "prepCategory = Pipeline([\n",
    "    ('imputer', SimpleImputer(strategy='most_frequent')),\n",
    "    ('encoder', OneHotEncoder(drop='first', sparse_output=False))\n",
    "])\n",
    "\n",
    "# combine pipelines\n",
    "preprocessor = ColumnTransformer([\n",
    "    ('nominal', prepNominal, nominal_cols),\n",
    "    ('continuous', prepContinuous, continuous_cols),\n",
    "    ('category', prepCategory, category_cols)\n",
    "])\n",
    "\n",
    "# split data\n",
    "X_prep = preprocessor.fit_transform(X)\n",
    "X_prep"
   ]
  },
  {
   "cell_type": "code",
   "execution_count": 12,
   "metadata": {},
   "outputs": [
    {
     "data": {
      "text/plain": [
       "1    250\n",
       "0    250\n",
       "Name: classification, dtype: int64"
      ]
     },
     "execution_count": 12,
     "metadata": {},
     "output_type": "execute_result"
    }
   ],
   "source": [
    "# balance data\n",
    "smote = SMOTE()\n",
    "X_prep, y = smote.fit_resample(X_prep, y)\n",
    "y.value_counts()"
   ]
  },
  {
   "cell_type": "code",
   "execution_count": 13,
   "metadata": {},
   "outputs": [
    {
     "name": "stdout",
     "output_type": "stream",
     "text": [
      "['age', 'bp', 'bu', 'sc', 'htn', 'dm', 'pe']\n"
     ]
    }
   ],
   "source": [
    "# select best features using RFECV\n",
    "selector = RFECV(estimator=LogisticRegression(max_iter=1000), step=1, cv=5, scoring='accuracy')\n",
    "X_prep = selector.fit_transform(X_prep, y)\n",
    "X_prep.shape\n",
    "# columns selected\n",
    "selected_cols = [col for col, selected in zip(X.columns, selector.support_) if selected]\n",
    "print(selected_cols)"
   ]
  },
  {
   "cell_type": "code",
   "execution_count": 14,
   "metadata": {},
   "outputs": [
    {
     "data": {
      "text/html": [
       "<div>\n",
       "<style scoped>\n",
       "    .dataframe tbody tr th:only-of-type {\n",
       "        vertical-align: middle;\n",
       "    }\n",
       "\n",
       "    .dataframe tbody tr th {\n",
       "        vertical-align: top;\n",
       "    }\n",
       "\n",
       "    .dataframe thead th {\n",
       "        text-align: right;\n",
       "    }\n",
       "</style>\n",
       "<table border=\"1\" class=\"dataframe\">\n",
       "  <thead>\n",
       "    <tr style=\"text-align: right;\">\n",
       "      <th></th>\n",
       "      <th>age</th>\n",
       "      <th>bp</th>\n",
       "      <th>bu</th>\n",
       "      <th>sc</th>\n",
       "      <th>htn</th>\n",
       "      <th>dm</th>\n",
       "      <th>pe</th>\n",
       "    </tr>\n",
       "  </thead>\n",
       "  <tbody>\n",
       "    <tr>\n",
       "      <th>0</th>\n",
       "      <td>0.421486</td>\n",
       "      <td>0.076249</td>\n",
       "      <td>1.053226</td>\n",
       "      <td>0.603224</td>\n",
       "      <td>1.0</td>\n",
       "      <td>0.0</td>\n",
       "      <td>0.0</td>\n",
       "    </tr>\n",
       "    <tr>\n",
       "      <th>1</th>\n",
       "      <td>0.421486</td>\n",
       "      <td>2.363728</td>\n",
       "      <td>-0.457965</td>\n",
       "      <td>-0.132789</td>\n",
       "      <td>0.0</td>\n",
       "      <td>1.0</td>\n",
       "      <td>0.0</td>\n",
       "    </tr>\n",
       "    <tr>\n",
       "      <th>2</th>\n",
       "      <td>-1.421074</td>\n",
       "      <td>0.838742</td>\n",
       "      <td>-1.084556</td>\n",
       "      <td>-0.991470</td>\n",
       "      <td>0.0</td>\n",
       "      <td>0.0</td>\n",
       "      <td>1.0</td>\n",
       "    </tr>\n",
       "    <tr>\n",
       "      <th>3</th>\n",
       "      <td>-2.342354</td>\n",
       "      <td>2.363728</td>\n",
       "      <td>-0.494823</td>\n",
       "      <td>-0.868801</td>\n",
       "      <td>1.0</td>\n",
       "      <td>1.0</td>\n",
       "      <td>1.0</td>\n",
       "    </tr>\n",
       "    <tr>\n",
       "      <th>4</th>\n",
       "      <td>-1.421074</td>\n",
       "      <td>0.838742</td>\n",
       "      <td>-0.347390</td>\n",
       "      <td>-0.500795</td>\n",
       "      <td>0.0</td>\n",
       "      <td>1.0</td>\n",
       "      <td>0.0</td>\n",
       "    </tr>\n",
       "  </tbody>\n",
       "</table>\n",
       "</div>"
      ],
      "text/plain": [
       "        age        bp        bu        sc  htn   dm   pe\n",
       "0  0.421486  0.076249  1.053226  0.603224  1.0  0.0  0.0\n",
       "1  0.421486  2.363728 -0.457965 -0.132789  0.0  1.0  0.0\n",
       "2 -1.421074  0.838742 -1.084556 -0.991470  0.0  0.0  1.0\n",
       "3 -2.342354  2.363728 -0.494823 -0.868801  1.0  1.0  1.0\n",
       "4 -1.421074  0.838742 -0.347390 -0.500795  0.0  1.0  0.0"
      ]
     },
     "execution_count": 14,
     "metadata": {},
     "output_type": "execute_result"
    }
   ],
   "source": [
    "X_prep = pd.DataFrame(X_prep, columns=selected_cols)\n",
    "X_prep.head()"
   ]
  },
  {
   "cell_type": "code",
   "execution_count": 15,
   "metadata": {},
   "outputs": [
    {
     "name": "stdout",
     "output_type": "stream",
     "text": [
      "(400, 7) (400,)\n",
      "nominal columns:  []\n",
      "continuous columns:  ['age', 'bp', 'bu', 'sc']\n",
      "category columns:  ['htn', 'dm', 'pe']\n"
     ]
    }
   ],
   "source": [
    "# final X\n",
    "#  update nominal_cols, continuous_cols, category_cols\n",
    "X = df[selected_cols]\n",
    "nominal_cols = [col for col in X.columns if (X[col].nunique() <= 6 and X[col].dtype != 'object')]\n",
    "continuous_cols = [col for col in X.columns if X[col].nunique() > 6]\n",
    "category_cols = [col for col in X.columns if X[col].dtype == 'object']\\\n",
    "\n",
    "y = df['classification']\n",
    "# \\t from y\n",
    "y = y.str.replace('\\t', '').replace('\\n', '').replace('?', '')\n",
    "y = y.replace({'ckd': 1, 'notckd': 0})\n",
    "\n",
    "print(X.shape, y.shape)\n",
    "\n",
    "# combine pipelines\n",
    "preprocessor = ColumnTransformer([\n",
    "    ('nominal', prepNominal, nominal_cols),\n",
    "    ('continuous', prepContinuous, continuous_cols),\n",
    "    ('category', prepCategory, category_cols)\n",
    "])\n",
    "\n",
    "print('nominal columns: ', nominal_cols)\n",
    "print('continuous columns: ', continuous_cols)\n",
    "print('category columns: ', category_cols)"
   ]
  },
  {
   "cell_type": "code",
   "execution_count": 16,
   "metadata": {},
   "outputs": [],
   "source": [
    "# model 1 full pipe line    \n",
    "model1 = Pipeline([\n",
    "    ('preprocessor', preprocessor),\n",
    "    ('selector', selector),\n",
    "    ('model', LogisticRegression(max_iter=1000, solver='sag'))\n",
    "])\n",
    "\n",
    "# model 2 full pipe line\n",
    "model2 = Pipeline([\n",
    "    ('preprocessor', preprocessor),\n",
    "    ('selector', selector),\n",
    "    ('model', DecisionTreeClassifier())\n",
    "])\n",
    "\n",
    "# model 3 full pipe line\n",
    "model3 = Pipeline([\n",
    "    ('preprocessor', preprocessor),\n",
    "    ('selector', selector),\n",
    "    ('model', RandomForestClassifier())\n",
    "])\n",
    "\n",
    "# model 4 full pipe line\n",
    "model4 = Pipeline([\n",
    "    ('preprocessor', preprocessor),\n",
    "    ('selector', selector),\n",
    "    ('model', AdaBoostClassifier())\n",
    "])\n",
    "\n",
    "# model 5 full pipe line\n",
    "model5 = Pipeline([\n",
    "    ('preprocessor', preprocessor),\n",
    "    ('selector', selector),\n",
    "    ('model', GradientBoostingClassifier())\n",
    "])\n",
    "\n",
    "# model 6 full pipe line\n",
    "model6 = Pipeline([\n",
    "    ('preprocessor', preprocessor),\n",
    "    ('selector', selector),\n",
    "    ('model', SVC())\n",
    "])\n",
    "\n",
    "# model 7 full pipe line\n",
    "model7 = Pipeline([\n",
    "    ('preprocessor', preprocessor),\n",
    "    ('selector', selector),\n",
    "    ('model', KNeighborsClassifier())\n",
    "])\n",
    "\n",
    "# model 8 full pipe line\n",
    "model8 = Pipeline([\n",
    "    ('preprocessor', preprocessor),\n",
    "    ('selector', selector),\n",
    "    ('model', GaussianNB())\n",
    "])\n",
    "\n",
    "# model 9 full pipe line\n",
    "model9 = Pipeline([\n",
    "    ('preprocessor', preprocessor),\n",
    "    ('selector', selector),\n",
    "    ('model', VotingClassifier(estimators=[('lr', LogisticRegression(max_iter=1000, solver='sag')),\n",
    "                                        ('dt', DecisionTreeClassifier()),\n",
    "                                        ('rf', RandomForestClassifier()),\n",
    "                                        ('ada', AdaBoostClassifier()),\n",
    "                                        ('gb', GradientBoostingClassifier()),\n",
    "                                        ('svc', SVC()),\n",
    "                                        ('knn', KNeighborsClassifier()),\n",
    "                                        ('gnb', GaussianNB())], voting='hard'))\n",
    "                                        ])\n"
   ]
  },
  {
   "cell_type": "code",
   "execution_count": 17,
   "metadata": {},
   "outputs": [
    {
     "name": "stdout",
     "output_type": "stream",
     "text": [
      "(400, 7) (400,)\n"
     ]
    },
    {
     "data": {
      "text/html": [
       "<div>\n",
       "<style scoped>\n",
       "    .dataframe tbody tr th:only-of-type {\n",
       "        vertical-align: middle;\n",
       "    }\n",
       "\n",
       "    .dataframe tbody tr th {\n",
       "        vertical-align: top;\n",
       "    }\n",
       "\n",
       "    .dataframe thead th {\n",
       "        text-align: right;\n",
       "    }\n",
       "</style>\n",
       "<table border=\"1\" class=\"dataframe\">\n",
       "  <thead>\n",
       "    <tr style=\"text-align: right;\">\n",
       "      <th></th>\n",
       "      <th>age</th>\n",
       "      <th>bp</th>\n",
       "      <th>bu</th>\n",
       "      <th>sc</th>\n",
       "      <th>htn</th>\n",
       "      <th>dm</th>\n",
       "      <th>pe</th>\n",
       "    </tr>\n",
       "  </thead>\n",
       "  <tbody>\n",
       "    <tr>\n",
       "      <th>0</th>\n",
       "      <td>48.0</td>\n",
       "      <td>80.0</td>\n",
       "      <td>36.0</td>\n",
       "      <td>1.2</td>\n",
       "      <td>yes</td>\n",
       "      <td>yes</td>\n",
       "      <td>no</td>\n",
       "    </tr>\n",
       "    <tr>\n",
       "      <th>1</th>\n",
       "      <td>7.0</td>\n",
       "      <td>50.0</td>\n",
       "      <td>18.0</td>\n",
       "      <td>0.8</td>\n",
       "      <td>no</td>\n",
       "      <td>no</td>\n",
       "      <td>no</td>\n",
       "    </tr>\n",
       "  </tbody>\n",
       "</table>\n",
       "</div>"
      ],
      "text/plain": [
       "    age    bp    bu   sc  htn   dm  pe\n",
       "0  48.0  80.0  36.0  1.2  yes  yes  no\n",
       "1   7.0  50.0  18.0  0.8   no   no  no"
      ]
     },
     "execution_count": 17,
     "metadata": {},
     "output_type": "execute_result"
    }
   ],
   "source": [
    "# fit all models\n",
    "models = [model1, model2, model3, model4, model5, model6, model7, model8, model9]\n",
    "for model in models:\n",
    "    model.fit(X, y)\n",
    "\n",
    "print(X.shape, y.shape)\n",
    "X.head(2)\n"
   ]
  },
  {
   "cell_type": "code",
   "execution_count": 18,
   "metadata": {},
   "outputs": [
    {
     "data": {
      "image/png": "[encoded data removed]",
      "text/plain": [
       "<Figure size 1500x1500 with 9 Axes>"
      ]
     },
     "metadata": {},
     "output_type": "display_data"
    }
   ],
   "source": [
    "# show 3x3 grid of confusion matrix\n",
    "fig, axes = plt.subplots(3, 3, figsize=(15, 15), )\n",
    "model_names = ['Logistic Regression', 'Decision Tree', 'Random Forest', 'AdaBoost', 'Gradient Boosting', 'SVC', 'KNN', 'GaussianNB', 'Voting Classifier']\n",
    "for ax, model in zip(axes.flatten(), models):\n",
    "    cf = confusion_matrix(y, model.predict(X))\n",
    "    sns.heatmap(cf, annot=True, ax=ax, fmt='g', cmap='Blues')\n",
    "    # remove color bar\n",
    "    ax.collections[0].colorbar.remove()\n",
    "    ax.set(title=model_names[models.index(model)], xlabel='Predicted', ylabel='Actual')\n",
    "\n"
   ]
  },
  {
   "cell_type": "code",
   "execution_count": 19,
   "metadata": {},
   "outputs": [
    {
     "name": "stdout",
     "output_type": "stream",
     "text": [
      "Logistic Regression\n",
      "              precision    recall  f1-score   support\n",
      "\n",
      "           0       0.81      1.00      0.90       150\n",
      "           1       1.00      0.86      0.92       250\n",
      "\n",
      "    accuracy                           0.91       400\n",
      "   macro avg       0.91      0.93      0.91       400\n",
      "weighted avg       0.93      0.91      0.91       400\n",
      "\n",
      "\n",
      "Decision Tree\n",
      "              precision    recall  f1-score   support\n",
      "\n",
      "           0       0.97      0.99      0.98       150\n",
      "           1       1.00      0.98      0.99       250\n",
      "\n",
      "    accuracy                           0.98       400\n",
      "   macro avg       0.98      0.99      0.98       400\n",
      "weighted avg       0.99      0.98      0.99       400\n",
      "\n",
      "\n",
      "Random Forest\n",
      "              precision    recall  f1-score   support\n",
      "\n",
      "           0       0.97      0.99      0.98       150\n",
      "           1       0.99      0.98      0.99       250\n",
      "\n",
      "    accuracy                           0.98       400\n",
      "   macro avg       0.98      0.99      0.98       400\n",
      "weighted avg       0.99      0.98      0.99       400\n",
      "\n",
      "\n",
      "AdaBoost\n",
      "              precision    recall  f1-score   support\n",
      "\n",
      "           0       0.92      0.97      0.95       150\n",
      "           1       0.98      0.95      0.97       250\n",
      "\n",
      "    accuracy                           0.96       400\n",
      "   macro avg       0.95      0.96      0.96       400\n",
      "weighted avg       0.96      0.96      0.96       400\n",
      "\n",
      "\n",
      "Gradient Boosting\n",
      "              precision    recall  f1-score   support\n",
      "\n",
      "           0       0.93      0.99      0.96       150\n",
      "           1       1.00      0.95      0.97       250\n",
      "\n",
      "    accuracy                           0.97       400\n",
      "   macro avg       0.96      0.97      0.97       400\n",
      "weighted avg       0.97      0.97      0.97       400\n",
      "\n",
      "\n",
      "SVC\n",
      "              precision    recall  f1-score   support\n",
      "\n",
      "           0       0.82      1.00      0.90       150\n",
      "           1       1.00      0.86      0.93       250\n",
      "\n",
      "    accuracy                           0.92       400\n",
      "   macro avg       0.91      0.93      0.91       400\n",
      "weighted avg       0.93      0.92      0.92       400\n",
      "\n",
      "\n",
      "KNN\n",
      "              precision    recall  f1-score   support\n",
      "\n",
      "           0       0.86      0.97      0.91       150\n",
      "           1       0.98      0.90      0.94       250\n",
      "\n",
      "    accuracy                           0.93       400\n",
      "   macro avg       0.92      0.94      0.93       400\n",
      "weighted avg       0.94      0.93      0.93       400\n",
      "\n",
      "\n",
      "GaussianNB\n",
      "              precision    recall  f1-score   support\n",
      "\n",
      "           0       0.76      1.00      0.86       150\n",
      "           1       1.00      0.81      0.90       250\n",
      "\n",
      "    accuracy                           0.88       400\n",
      "   macro avg       0.88      0.91      0.88       400\n",
      "weighted avg       0.91      0.88      0.88       400\n",
      "\n",
      "\n",
      "Voting Classifier\n",
      "              precision    recall  f1-score   support\n",
      "\n",
      "           0       0.85      0.99      0.92       150\n",
      "           1       1.00      0.90      0.94       250\n",
      "\n",
      "    accuracy                           0.93       400\n",
      "   macro avg       0.92      0.94      0.93       400\n",
      "weighted avg       0.94      0.93      0.93       400\n",
      "\n",
      "\n"
     ]
    }
   ],
   "source": [
    "# show classification report\n",
    "for model in models:\n",
    "    print(model_names[models.index(model)])\n",
    "    print(classification_report(y, model.predict(X)))\n",
    "    print()"
   ]
  },
  {
   "cell_type": "code",
   "execution_count": 20,
   "metadata": {},
   "outputs": [
    {
     "name": "stdout",
     "output_type": "stream",
     "text": [
      "Best Model Gradient Boosting\n",
      "              precision    recall  f1-score   support\n",
      "\n",
      "           0       0.93      0.99      0.96       150\n",
      "           1       1.00      0.95      0.97       250\n",
      "\n",
      "    accuracy                           0.97       400\n",
      "   macro avg       0.96      0.97      0.97       400\n",
      "weighted avg       0.97      0.97      0.97       400\n",
      "\n",
      "\n"
     ]
    }
   ],
   "source": [
    "# best model\n",
    "best_model = model5\n",
    "# display best model metrics\n",
    "print('Best Model', model_names[models.index(best_model)])\n",
    "print(classification_report(y, best_model.predict(X)))\n",
    "print()\n"
   ]
  },
  {
   "cell_type": "code",
   "execution_count": 21,
   "metadata": {},
   "outputs": [
    {
     "data": {
      "text/html": [
       "<div>\n",
       "<style scoped>\n",
       "    .dataframe tbody tr th:only-of-type {\n",
       "        vertical-align: middle;\n",
       "    }\n",
       "\n",
       "    .dataframe tbody tr th {\n",
       "        vertical-align: top;\n",
       "    }\n",
       "\n",
       "    .dataframe thead th {\n",
       "        text-align: right;\n",
       "    }\n",
       "</style>\n",
       "<table border=\"1\" class=\"dataframe\">\n",
       "  <thead>\n",
       "    <tr style=\"text-align: right;\">\n",
       "      <th></th>\n",
       "      <th>Model</th>\n",
       "      <th>Accuracy</th>\n",
       "      <th>F1 Score</th>\n",
       "      <th>Recall</th>\n",
       "      <th>Precision</th>\n",
       "      <th>AUC</th>\n",
       "    </tr>\n",
       "  </thead>\n",
       "  <tbody>\n",
       "    <tr>\n",
       "      <th>0</th>\n",
       "      <td>Decision Tree</td>\n",
       "      <td>0.9850</td>\n",
       "      <td>0.987903</td>\n",
       "      <td>0.980</td>\n",
       "      <td>0.995935</td>\n",
       "      <td>0.986667</td>\n",
       "    </tr>\n",
       "    <tr>\n",
       "      <th>1</th>\n",
       "      <td>Random Forest</td>\n",
       "      <td>0.9850</td>\n",
       "      <td>0.987952</td>\n",
       "      <td>0.984</td>\n",
       "      <td>0.991935</td>\n",
       "      <td>0.985333</td>\n",
       "    </tr>\n",
       "    <tr>\n",
       "      <th>2</th>\n",
       "      <td>Gradient Boosting</td>\n",
       "      <td>0.9675</td>\n",
       "      <td>0.973415</td>\n",
       "      <td>0.952</td>\n",
       "      <td>0.995816</td>\n",
       "      <td>0.972667</td>\n",
       "    </tr>\n",
       "    <tr>\n",
       "      <th>3</th>\n",
       "      <td>AdaBoost</td>\n",
       "      <td>0.9600</td>\n",
       "      <td>0.967480</td>\n",
       "      <td>0.952</td>\n",
       "      <td>0.983471</td>\n",
       "      <td>0.962667</td>\n",
       "    </tr>\n",
       "    <tr>\n",
       "      <th>4</th>\n",
       "      <td>Voting Classifier</td>\n",
       "      <td>0.9325</td>\n",
       "      <td>0.943158</td>\n",
       "      <td>0.896</td>\n",
       "      <td>0.995556</td>\n",
       "      <td>0.944667</td>\n",
       "    </tr>\n",
       "    <tr>\n",
       "      <th>5</th>\n",
       "      <td>KNN</td>\n",
       "      <td>0.9300</td>\n",
       "      <td>0.941667</td>\n",
       "      <td>0.904</td>\n",
       "      <td>0.982609</td>\n",
       "      <td>0.938667</td>\n",
       "    </tr>\n",
       "    <tr>\n",
       "      <th>6</th>\n",
       "      <td>SVC</td>\n",
       "      <td>0.9150</td>\n",
       "      <td>0.927039</td>\n",
       "      <td>0.864</td>\n",
       "      <td>1.000000</td>\n",
       "      <td>0.932000</td>\n",
       "    </tr>\n",
       "    <tr>\n",
       "      <th>7</th>\n",
       "      <td>Logistic Regression</td>\n",
       "      <td>0.9125</td>\n",
       "      <td>0.924731</td>\n",
       "      <td>0.860</td>\n",
       "      <td>1.000000</td>\n",
       "      <td>0.930000</td>\n",
       "    </tr>\n",
       "    <tr>\n",
       "      <th>8</th>\n",
       "      <td>GaussianNB</td>\n",
       "      <td>0.8825</td>\n",
       "      <td>0.896247</td>\n",
       "      <td>0.812</td>\n",
       "      <td>1.000000</td>\n",
       "      <td>0.906000</td>\n",
       "    </tr>\n",
       "  </tbody>\n",
       "</table>\n",
       "</div>"
      ],
      "text/plain": [
       "                 Model  Accuracy  F1 Score  Recall  Precision       AUC\n",
       "0        Decision Tree    0.9850  0.987903   0.980   0.995935  0.986667\n",
       "1        Random Forest    0.9850  0.987952   0.984   0.991935  0.985333\n",
       "2    Gradient Boosting    0.9675  0.973415   0.952   0.995816  0.972667\n",
       "3             AdaBoost    0.9600  0.967480   0.952   0.983471  0.962667\n",
       "4    Voting Classifier    0.9325  0.943158   0.896   0.995556  0.944667\n",
       "5                  KNN    0.9300  0.941667   0.904   0.982609  0.938667\n",
       "6                  SVC    0.9150  0.927039   0.864   1.000000  0.932000\n",
       "7  Logistic Regression    0.9125  0.924731   0.860   1.000000  0.930000\n",
       "8           GaussianNB    0.8825  0.896247   0.812   1.000000  0.906000"
      ]
     },
     "execution_count": 21,
     "metadata": {},
     "output_type": "execute_result"
    }
   ],
   "source": [
    "report = []\n",
    "for model in models:\n",
    "    acc = accuracy_score(y, model.predict(X))\n",
    "    f1 = f1_score(y, model.predict(X))\n",
    "    recall = recall_score(y, model.predict(X))\n",
    "    precision = precision_score(y, model.predict(X))\n",
    "    auc = roc_auc_score(y, model.predict(X))\n",
    "    report.append({\n",
    "        'Model': model_names[models.index(model)],\n",
    "        'Accuracy': acc,\n",
    "        'F1 Score': f1,\n",
    "        'Recall': recall,\n",
    "        'Precision': precision,\n",
    "        'AUC': auc\n",
    "    })\n",
    "report = pd.DataFrame(report, columns=['Model', 'Accuracy', 'F1 Score', 'Recall', 'Precision', 'AUC'])\n",
    "report.sort_values(by='Accuracy', ascending=False, inplace=True)\n",
    "report.reset_index(drop=True, inplace=True)\n",
    "report"
   ]
  },
  {
   "cell_type": "code",
   "execution_count": 22,
   "metadata": {},
   "outputs": [
    {
     "data": {
      "application/vnd.plotly.v1+json": {
       "config": {
        "plotlyServerURL": "https://plot.ly"
       },
       "data": [
        {
         "marker": {
          "color": [
           0.985,
           0.985,
           0.9675,
           0.96,
           0.9325,
           0.93,
           0.915,
           0.9125,
           0.8825
          ],
          "coloraxis": "coloraxis"
         },
         "type": "bar",
         "x": [
          "Decision Tree",
          "Random Forest",
          "Gradient Boosting",
          "AdaBoost",
          "Voting Classifier",
          "KNN",
          "SVC",
          "Logistic Regression",
          "GaussianNB"
         ],
         "xaxis": "x",
         "y": [
          0.985,
          0.985,
          0.9675,
          0.96,
          0.9325,
          0.93,
          0.915,
          0.9125,
          0.8825
         ],
         "yaxis": "y"
        },
        {
         "marker": {
          "color": [
           0.9866666666666666,
           0.9853333333333334,
           0.9726666666666667,
           0.9626666666666667,
           0.9446666666666667,
           0.9386666666666666,
           0.9319999999999999,
           0.9299999999999999,
           0.906
          ],
          "coloraxis": "coloraxis"
         },
         "type": "bar",
         "x": [
          "Decision Tree",
          "Random Forest",
          "Gradient Boosting",
          "AdaBoost",
          "Voting Classifier",
          "KNN",
          "SVC",
          "Logistic Regression",
          "GaussianNB"
         ],
         "xaxis": "x2",
         "y": [
          0.9866666666666666,
          0.9853333333333334,
          0.9726666666666667,
          0.9626666666666667,
          0.9446666666666667,
          0.9386666666666666,
          0.9319999999999999,
          0.9299999999999999,
          0.906
         ],
         "yaxis": "y2"
        },
        {
         "marker": {
          "color": [
           0.98,
           0.984,
           0.952,
           0.952,
           0.896,
           0.904,
           0.864,
           0.86,
           0.812
          ],
          "coloraxis": "coloraxis"
         },
         "type": "bar",
         "x": [
          "Decision Tree",
          "Random Forest",
          "Gradient Boosting",
          "AdaBoost",
          "Voting Classifier",
          "KNN",
          "SVC",
          "Logistic Regression",
          "GaussianNB"
         ],
         "xaxis": "x3",
         "y": [
          0.98,
          0.984,
          0.952,
          0.952,
          0.896,
          0.904,
          0.864,
          0.86,
          0.812
         ],
         "yaxis": "y3"
        },
        {
         "marker": {
          "color": [
           0.9959349593495935,
           0.9919354838709677,
           0.99581589958159,
           0.9834710743801653,
           0.9955555555555555,
           0.9826086956521739,
           1,
           1,
           1
          ],
          "coloraxis": "coloraxis"
         },
         "type": "bar",
         "x": [
          "Decision Tree",
          "Random Forest",
          "Gradient Boosting",
          "AdaBoost",
          "Voting Classifier",
          "KNN",
          "SVC",
          "Logistic Regression",
          "GaussianNB"
         ],
         "xaxis": "x4",
         "y": [
          0.9959349593495935,
          0.9919354838709677,
          0.99581589958159,
          0.9834710743801653,
          0.9955555555555555,
          0.9826086956521739,
          1,
          1,
          1
         ],
         "yaxis": "y4"
        },
        {
         "marker": {
          "color": [
           0.9879032258064516,
           0.9879518072289156,
           0.9734151329243353,
           0.967479674796748,
           0.9431578947368421,
           0.9416666666666667,
           0.9270386266094421,
           0.924731182795699,
           0.8962472406181016
          ],
          "coloraxis": "coloraxis"
         },
         "type": "bar",
         "x": [
          "Decision Tree",
          "Random Forest",
          "Gradient Boosting",
          "AdaBoost",
          "Voting Classifier",
          "KNN",
          "SVC",
          "Logistic Regression",
          "GaussianNB"
         ],
         "xaxis": "x5",
         "y": [
          0.9879032258064516,
          0.9879518072289156,
          0.9734151329243353,
          0.967479674796748,
          0.9431578947368421,
          0.9416666666666667,
          0.9270386266094421,
          0.924731182795699,
          0.8962472406181016
         ],
         "yaxis": "y5"
        }
       ],
       "layout": {
        "annotations": [
         {
          "font": {
           "size": 16
          },
          "showarrow": false,
          "text": "Accuracy",
          "x": 0.225,
          "xanchor": "center",
          "xref": "paper",
          "y": 1,
          "yanchor": "bottom",
          "yref": "paper"
         },
         {
          "font": {
           "size": 16
          },
          "showarrow": false,
          "text": "AUC",
          "x": 0.775,
          "xanchor": "center",
          "xref": "paper",
          "y": 1,
          "yanchor": "bottom",
          "yref": "paper"
         },
         {
          "font": {
           "size": 16
          },
          "showarrow": false,
          "text": "Recall",
          "x": 0.225,
          "xanchor": "center",
          "xref": "paper",
          "y": 0.6111111111111112,
          "yanchor": "bottom",
          "yref": "paper"
         },
         {
          "font": {
           "size": 16
          },
          "showarrow": false,
          "text": "Precision",
          "x": 0.775,
          "xanchor": "center",
          "xref": "paper",
          "y": 0.6111111111111112,
          "yanchor": "bottom",
          "yref": "paper"
         },
         {
          "font": {
           "size": 16
          },
          "showarrow": false,
          "text": "f1 Score",
          "x": 0.225,
          "xanchor": "center",
          "xref": "paper",
          "y": 0.22222222222222224,
          "yanchor": "bottom",
          "yref": "paper"
         }
        ],
        "coloraxis": {
         "colorscale": [
          [
           0,
           "rgb(255,0,0)"
          ],
          [
           1,
           "rgb(0,0,255)"
          ]
         ]
        },
        "height": 1000,
        "showlegend": false,
        "template": {
         "data": {
          "bar": [
           {
            "error_x": {
             "color": "#2a3f5f"
            },
            "error_y": {
             "color": "#2a3f5f"
            },
            "marker": {
             "line": {
              "color": "#E5ECF6",
              "width": 0.5
             },
             "pattern": {
              "fillmode": "overlay",
              "size": 10,
              "solidity": 0.2
             }
            },
            "type": "bar"
           }
          ],
          "barpolar": [
           {
            "marker": {
             "line": {
              "color": "#E5ECF6",
              "width": 0.5
             },
             "pattern": {
              "fillmode": "overlay",
              "size": 10,
              "solidity": 0.2
             }
            },
            "type": "barpolar"
           }
          ],
          "carpet": [
           {
            "aaxis": {
             "endlinecolor": "#2a3f5f",
             "gridcolor": "white",
             "linecolor": "white",
             "minorgridcolor": "white",
             "startlinecolor": "#2a3f5f"
            },
            "baxis": {
             "endlinecolor": "#2a3f5f",
             "gridcolor": "white",
             "linecolor": "white",
             "minorgridcolor": "white",
             "startlinecolor": "#2a3f5f"
            },
            "type": "carpet"
           }
          ],
          "choropleth": [
           {
            "colorbar": {
             "outlinewidth": 0,
             "ticks": ""
            },
            "type": "choropleth"
           }
          ],
          "contour": [
           {
            "colorbar": {
             "outlinewidth": 0,
             "ticks": ""
            },
            "colorscale": [
             [
              0,
              "#0d0887"
             ],
             [
              0.1111111111111111,
              "#46039f"
             ],
             [
              0.2222222222222222,
              "#7201a8"
             ],
             [
              0.3333333333333333,
              "#9c179e"
             ],
             [
              0.4444444444444444,
              "#bd3786"
             ],
             [
              0.5555555555555556,
              "#d8576b"
             ],
             [
              0.6666666666666666,
              "#ed7953"
             ],
             [
              0.7777777777777778,
              "#fb9f3a"
             ],
             [
              0.8888888888888888,
              "#fdca26"
             ],
             [
              1,
              "#f0f921"
             ]
            ],
            "type": "contour"
           }
          ],
          "contourcarpet": [
           {
            "colorbar": {
             "outlinewidth": 0,
             "ticks": ""
            },
            "type": "contourcarpet"
           }
          ],
          "heatmap": [
           {
            "colorbar": {
             "outlinewidth": 0,
             "ticks": ""
            },
            "colorscale": [
             [
              0,
              "#0d0887"
             ],
             [
              0.1111111111111111,
              "#46039f"
             ],
             [
              0.2222222222222222,
              "#7201a8"
             ],
             [
              0.3333333333333333,
              "#9c179e"
             ],
             [
              0.4444444444444444,
              "#bd3786"
             ],
             [
              0.5555555555555556,
              "#d8576b"
             ],
             [
              0.6666666666666666,
              "#ed7953"
             ],
             [
              0.7777777777777778,
              "#fb9f3a"
             ],
             [
              0.8888888888888888,
              "#fdca26"
             ],
             [
              1,
              "#f0f921"
             ]
            ],
            "type": "heatmap"
           }
          ],
          "heatmapgl": [
           {
            "colorbar": {
             "outlinewidth": 0,
             "ticks": ""
            },
            "colorscale": [
             [
              0,
              "#0d0887"
             ],
             [
              0.1111111111111111,
              "#46039f"
             ],
             [
              0.2222222222222222,
              "#7201a8"
             ],
             [
              0.3333333333333333,
              "#9c179e"
             ],
             [
              0.4444444444444444,
              "#bd3786"
             ],
             [
              0.5555555555555556,
              "#d8576b"
             ],
             [
              0.6666666666666666,
              "#ed7953"
             ],
             [
              0.7777777777777778,
              "#fb9f3a"
             ],
             [
              0.8888888888888888,
              "#fdca26"
             ],
             [
              1,
              "#f0f921"
             ]
            ],
            "type": "heatmapgl"
           }
          ],
          "histogram": [
           {
            "marker": {
             "pattern": {
              "fillmode": "overlay",
              "size": 10,
              "solidity": 0.2
             }
            },
            "type": "histogram"
           }
          ],
          "histogram2d": [
           {
            "colorbar": {
             "outlinewidth": 0,
             "ticks": ""
            },
            "colorscale": [
             [
              0,
              "#0d0887"
             ],
             [
              0.1111111111111111,
              "#46039f"
             ],
             [
              0.2222222222222222,
              "#7201a8"
             ],
             [
              0.3333333333333333,
              "#9c179e"
             ],
             [
              0.4444444444444444,
              "#bd3786"
             ],
             [
              0.5555555555555556,
              "#d8576b"
             ],
             [
              0.6666666666666666,
              "#ed7953"
             ],
             [
              0.7777777777777778,
              "#fb9f3a"
             ],
             [
              0.8888888888888888,
              "#fdca26"
             ],
             [
              1,
              "#f0f921"
             ]
            ],
            "type": "histogram2d"
           }
          ],
          "histogram2dcontour": [
           {
            "colorbar": {
             "outlinewidth": 0,
             "ticks": ""
            },
            "colorscale": [
             [
              0,
              "#0d0887"
             ],
             [
              0.1111111111111111,
              "#46039f"
             ],
             [
              0.2222222222222222,
              "#7201a8"
             ],
             [
              0.3333333333333333,
              "#9c179e"
             ],
             [
              0.4444444444444444,
              "#bd3786"
             ],
             [
              0.5555555555555556,
              "#d8576b"
             ],
             [
              0.6666666666666666,
              "#ed7953"
             ],
             [
              0.7777777777777778,
              "#fb9f3a"
             ],
             [
              0.8888888888888888,
              "#fdca26"
             ],
             [
              1,
              "#f0f921"
             ]
            ],
            "type": "histogram2dcontour"
           }
          ],
          "mesh3d": [
           {
            "colorbar": {
             "outlinewidth": 0,
             "ticks": ""
            },
            "type": "mesh3d"
           }
          ],
          "parcoords": [
           {
            "line": {
             "colorbar": {
              "outlinewidth": 0,
              "ticks": ""
             }
            },
            "type": "parcoords"
           }
          ],
          "pie": [
           {
            "automargin": true,
            "type": "pie"
           }
          ],
          "scatter": [
           {
            "fillpattern": {
             "fillmode": "overlay",
             "size": 10,
             "solidity": 0.2
            },
            "type": "scatter"
           }
          ],
          "scatter3d": [
           {
            "line": {
             "colorbar": {
              "outlinewidth": 0,
              "ticks": ""
             }
            },
            "marker": {
             "colorbar": {
              "outlinewidth": 0,
              "ticks": ""
             }
            },
            "type": "scatter3d"
           }
          ],
          "scattercarpet": [
           {
            "marker": {
             "colorbar": {
              "outlinewidth": 0,
              "ticks": ""
             }
            },
            "type": "scattercarpet"
           }
          ],
          "scattergeo": [
           {
            "marker": {
             "colorbar": {
              "outlinewidth": 0,
              "ticks": ""
             }
            },
            "type": "scattergeo"
           }
          ],
          "scattergl": [
           {
            "marker": {
             "colorbar": {
              "outlinewidth": 0,
              "ticks": ""
             }
            },
            "type": "scattergl"
           }
          ],
          "scattermapbox": [
           {
            "marker": {
             "colorbar": {
              "outlinewidth": 0,
              "ticks": ""
             }
            },
            "type": "scattermapbox"
           }
          ],
          "scatterpolar": [
           {
            "marker": {
             "colorbar": {
              "outlinewidth": 0,
              "ticks": ""
             }
            },
            "type": "scatterpolar"
           }
          ],
          "scatterpolargl": [
           {
            "marker": {
             "colorbar": {
              "outlinewidth": 0,
              "ticks": ""
             }
            },
            "type": "scatterpolargl"
           }
          ],
          "scatterternary": [
           {
            "marker": {
             "colorbar": {
              "outlinewidth": 0,
              "ticks": ""
             }
            },
            "type": "scatterternary"
           }
          ],
          "surface": [
           {
            "colorbar": {
             "outlinewidth": 0,
             "ticks": ""
            },
            "colorscale": [
             [
              0,
              "#0d0887"
             ],
             [
              0.1111111111111111,
              "#46039f"
             ],
             [
              0.2222222222222222,
              "#7201a8"
             ],
             [
              0.3333333333333333,
              "#9c179e"
             ],
             [
              0.4444444444444444,
              "#bd3786"
             ],
             [
              0.5555555555555556,
              "#d8576b"
             ],
             [
              0.6666666666666666,
              "#ed7953"
             ],
             [
              0.7777777777777778,
              "#fb9f3a"
             ],
             [
              0.8888888888888888,
              "#fdca26"
             ],
             [
              1,
              "#f0f921"
             ]
            ],
            "type": "surface"
           }
          ],
          "table": [
           {
            "cells": {
             "fill": {
              "color": "#EBF0F8"
             },
             "line": {
              "color": "white"
             }
            },
            "header": {
             "fill": {
              "color": "#C8D4E3"
             },
             "line": {
              "color": "white"
             }
            },
            "type": "table"
           }
          ]
         },
         "layout": {
          "annotationdefaults": {
           "arrowcolor": "#2a3f5f",
           "arrowhead": 0,
           "arrowwidth": 1
          },
          "autotypenumbers": "strict",
          "coloraxis": {
           "colorbar": {
            "outlinewidth": 0,
            "ticks": ""
           }
          },
          "colorscale": {
           "diverging": [
            [
             0,
             "#8e0152"
            ],
            [
             0.1,
             "#c51b7d"
            ],
            [
             0.2,
             "#de77ae"
            ],
            [
             0.3,
             "#f1b6da"
            ],
            [
             0.4,
             "#fde0ef"
            ],
            [
             0.5,
             "#f7f7f7"
            ],
            [
             0.6,
             "#e6f5d0"
            ],
            [
             0.7,
             "#b8e186"
            ],
            [
             0.8,
             "#7fbc41"
            ],
            [
             0.9,
             "#4d9221"
            ],
            [
             1,
             "#276419"
            ]
           ],
           "sequential": [
            [
             0,
             "#0d0887"
            ],
            [
             0.1111111111111111,
             "#46039f"
            ],
            [
             0.2222222222222222,
             "#7201a8"
            ],
            [
             0.3333333333333333,
             "#9c179e"
            ],
            [
             0.4444444444444444,
             "#bd3786"
            ],
            [
             0.5555555555555556,
             "#d8576b"
            ],
            [
             0.6666666666666666,
             "#ed7953"
            ],
            [
             0.7777777777777778,
             "#fb9f3a"
            ],
            [
             0.8888888888888888,
             "#fdca26"
            ],
            [
             1,
             "#f0f921"
            ]
           ],
           "sequentialminus": [
            [
             0,
             "#0d0887"
            ],
            [
             0.1111111111111111,
             "#46039f"
            ],
            [
             0.2222222222222222,
             "#7201a8"
            ],
            [
             0.3333333333333333,
             "#9c179e"
            ],
            [
             0.4444444444444444,
             "#bd3786"
            ],
            [
             0.5555555555555556,
             "#d8576b"
            ],
            [
             0.6666666666666666,
             "#ed7953"
            ],
            [
             0.7777777777777778,
             "#fb9f3a"
            ],
            [
             0.8888888888888888,
             "#fdca26"
            ],
            [
             1,
             "#f0f921"
            ]
           ]
          },
          "colorway": [
           "#636efa",
           "#EF553B",
           "#00cc96",
           "#ab63fa",
           "#FFA15A",
           "#19d3f3",
           "#FF6692",
           "#B6E880",
           "#FF97FF",
           "#FECB52"
          ],
          "font": {
           "color": "#2a3f5f"
          },
          "geo": {
           "bgcolor": "white",
           "lakecolor": "white",
           "landcolor": "#E5ECF6",
           "showlakes": true,
           "showland": true,
           "subunitcolor": "white"
          },
          "hoverlabel": {
           "align": "left"
          },
          "hovermode": "closest",
          "mapbox": {
           "style": "light"
          },
          "paper_bgcolor": "white",
          "plot_bgcolor": "#E5ECF6",
          "polar": {
           "angularaxis": {
            "gridcolor": "white",
            "linecolor": "white",
            "ticks": ""
           },
           "bgcolor": "#E5ECF6",
           "radialaxis": {
            "gridcolor": "white",
            "linecolor": "white",
            "ticks": ""
           }
          },
          "scene": {
           "xaxis": {
            "backgroundcolor": "#E5ECF6",
            "gridcolor": "white",
            "gridwidth": 2,
            "linecolor": "white",
            "showbackground": true,
            "ticks": "",
            "zerolinecolor": "white"
           },
           "yaxis": {
            "backgroundcolor": "#E5ECF6",
            "gridcolor": "white",
            "gridwidth": 2,
            "linecolor": "white",
            "showbackground": true,
            "ticks": "",
            "zerolinecolor": "white"
           },
           "zaxis": {
            "backgroundcolor": "#E5ECF6",
            "gridcolor": "white",
            "gridwidth": 2,
            "linecolor": "white",
            "showbackground": true,
            "ticks": "",
            "zerolinecolor": "white"
           }
          },
          "shapedefaults": {
           "line": {
            "color": "#2a3f5f"
           }
          },
          "ternary": {
           "aaxis": {
            "gridcolor": "white",
            "linecolor": "white",
            "ticks": ""
           },
           "baxis": {
            "gridcolor": "white",
            "linecolor": "white",
            "ticks": ""
           },
           "bgcolor": "#E5ECF6",
           "caxis": {
            "gridcolor": "white",
            "linecolor": "white",
            "ticks": ""
           }
          },
          "title": {
           "x": 0.05
          },
          "xaxis": {
           "automargin": true,
           "gridcolor": "white",
           "linecolor": "white",
           "ticks": "",
           "title": {
            "standoff": 15
           },
           "zerolinecolor": "white",
           "zerolinewidth": 2
          },
          "yaxis": {
           "automargin": true,
           "gridcolor": "white",
           "linecolor": "white",
           "ticks": "",
           "title": {
            "standoff": 15
           },
           "zerolinecolor": "white",
           "zerolinewidth": 2
          }
         }
        },
        "title": {
         "text": "Model Comparison"
        },
        "width": 1000,
        "xaxis": {
         "anchor": "y",
         "domain": [
          0,
          0.45
         ]
        },
        "xaxis2": {
         "anchor": "y2",
         "domain": [
          0.55,
          1
         ]
        },
        "xaxis3": {
         "anchor": "y3",
         "domain": [
          0,
          0.45
         ]
        },
        "xaxis4": {
         "anchor": "y4",
         "domain": [
          0.55,
          1
         ]
        },
        "xaxis5": {
         "anchor": "y5",
         "domain": [
          0,
          0.45
         ]
        },
        "xaxis6": {
         "anchor": "y6",
         "domain": [
          0.55,
          1
         ]
        },
        "yaxis": {
         "anchor": "x",
         "domain": [
          0.7777777777777778,
          1
         ]
        },
        "yaxis2": {
         "anchor": "x2",
         "domain": [
          0.7777777777777778,
          1
         ]
        },
        "yaxis3": {
         "anchor": "x3",
         "domain": [
          0.3888888888888889,
          0.6111111111111112
         ]
        },
        "yaxis4": {
         "anchor": "x4",
         "domain": [
          0.3888888888888889,
          0.6111111111111112
         ]
        },
        "yaxis5": {
         "anchor": "x5",
         "domain": [
          0,
          0.22222222222222224
         ]
        },
        "yaxis6": {
         "anchor": "x6",
         "domain": [
          0,
          0.22222222222222224
         ]
        }
       }
      }
     },
     "metadata": {},
     "output_type": "display_data"
    }
   ],
   "source": [
    "# visualize report\n",
    "from plotly.subplots import make_subplots\n",
    "from plotly import graph_objects as go\n",
    "fig = make_subplots(rows=3, cols=2, subplot_titles=('Accuracy', 'AUC', 'Recall', 'Precision', 'f1 Score'),)\n",
    "fig.add_trace(\n",
    "    go.Bar(x=report['Model'], y=report['Accuracy'], marker=dict(color=report['Accuracy'], coloraxis='coloraxis')),\n",
    "    row=1, col=1\n",
    ")\n",
    "fig.add_trace(\n",
    "    go.Bar(x=report['Model'], y=report['AUC'], marker=dict(color=report['AUC'], coloraxis='coloraxis')),\n",
    "    row=1, col=2\n",
    ")\n",
    "fig.add_trace(\n",
    "    go.Bar(x=report['Model'], y=report['Recall'], marker=dict(color=report['Recall'], coloraxis='coloraxis')),\n",
    "    row=2, col=1\n",
    ")\n",
    "fig.add_trace(\n",
    "    go.Bar(x=report['Model'], y=report['Precision'], marker=dict(color=report['Precision'], coloraxis='coloraxis')),\n",
    "    row=2, col=2\n",
    ")\n",
    "fig.add_trace(\n",
    "    go.Bar(x=report['Model'], y=report['F1 Score'], marker=dict(color=report['F1 Score'], coloraxis='coloraxis')),\n",
    "    row=3, col=1\n",
    ")\n",
    "fig.update_layout(coloraxis=dict(colorscale='Bluered_r'), showlegend=False,height=1000, width=1000, title_text='Model Comparison')\n",
    "fig.show()\n"
   ]
  },
  {
   "cell_type": "code",
   "execution_count": 23,
   "metadata": {},
   "outputs": [],
   "source": [
    "# save all models\n",
    "for model in models:\n",
    "    joblib.dump(model, f'{model_names[models.index(model)]}.pkl')\n"
   ]
  },
  {
   "cell_type": "code",
   "execution_count": 24,
   "metadata": {},
   "outputs": [],
   "source": [
    "# load models\n",
    "def load_models():\n",
    "    models = []\n",
    "    for model in model_names:\n",
    "        models.append(joblib.load(f'{model}.pkl'))\n",
    "    return models\n"
   ]
  },
  {
   "cell_type": "code",
   "execution_count": 25,
   "metadata": {},
   "outputs": [],
   "source": [
    "# predict function\n",
    "def predict(data):\n",
    "    models = load_models()\n",
    "    results = []\n",
    "    for model in models:\n",
    "        results.append(model.predict(data)[0])  \n",
    "    # return most frequent prediction\n",
    "    most_frequent = np.bincount(results).argmax()\n",
    "    return most_frequent"
   ]
  },
  {
   "cell_type": "code",
   "execution_count": 26,
   "metadata": {},
   "outputs": [
    {
     "data": {
      "text/html": [
       "<div>\n",
       "<style scoped>\n",
       "    .dataframe tbody tr th:only-of-type {\n",
       "        vertical-align: middle;\n",
       "    }\n",
       "\n",
       "    .dataframe tbody tr th {\n",
       "        vertical-align: top;\n",
       "    }\n",
       "\n",
       "    .dataframe thead th {\n",
       "        text-align: right;\n",
       "    }\n",
       "</style>\n",
       "<table border=\"1\" class=\"dataframe\">\n",
       "  <thead>\n",
       "    <tr style=\"text-align: right;\">\n",
       "      <th></th>\n",
       "      <th>age</th>\n",
       "      <th>bp</th>\n",
       "      <th>bu</th>\n",
       "      <th>sc</th>\n",
       "      <th>htn</th>\n",
       "      <th>dm</th>\n",
       "      <th>pe</th>\n",
       "    </tr>\n",
       "  </thead>\n",
       "  <tbody>\n",
       "    <tr>\n",
       "      <th>0</th>\n",
       "      <td>48.0</td>\n",
       "      <td>80.0</td>\n",
       "      <td>36.0</td>\n",
       "      <td>1.2</td>\n",
       "      <td>yes</td>\n",
       "      <td>yes</td>\n",
       "      <td>no</td>\n",
       "    </tr>\n",
       "  </tbody>\n",
       "</table>\n",
       "</div>"
      ],
      "text/plain": [
       "    age    bp    bu   sc  htn   dm  pe\n",
       "0  48.0  80.0  36.0  1.2  yes  yes  no"
      ]
     },
     "execution_count": 26,
     "metadata": {},
     "output_type": "execute_result"
    }
   ],
   "source": [
    "X.iloc[0:1, :]"
   ]
  },
  {
   "cell_type": "code",
   "execution_count": 27,
   "metadata": {},
   "outputs": [
    {
     "data": {
      "text/plain": [
       "array([1, 0, 1, 1, 0, 1, 1, 1, 1, 1, 1, 1, 1, 1, 1, 1, 1, 1, 1, 1, 1, 1,\n",
       "       1, 0, 1, 1, 1, 1, 1, 1, 1, 1, 1, 1, 1, 1, 1, 1, 1, 1, 1, 1, 1, 1,\n",
       "       1, 1, 1, 0, 1, 1, 1, 1, 1, 1, 1, 1, 1, 1, 1, 1, 1, 1, 1, 1, 1, 1,\n",
       "       1, 1, 1, 1, 1, 1, 1, 1, 1, 0, 1, 1, 1, 1, 1, 1, 1, 1, 1, 1, 1, 1,\n",
       "       1, 0, 1, 1, 1, 1, 1, 1, 1, 1, 1, 1, 1, 1, 0, 1, 1, 1, 1, 1, 0, 1,\n",
       "       1, 1, 0, 1, 0, 0, 1, 0, 1, 0, 1, 1, 1, 0, 1, 1, 1, 1, 1, 1, 1, 0,\n",
       "       1, 1, 1, 1, 1, 1, 0, 1, 0, 1, 1, 1, 1, 1, 1, 1, 1, 1, 1, 1, 1, 1,\n",
       "       1, 0, 1, 1, 1, 1, 1, 1, 1, 1, 1, 1, 1, 0, 1, 1, 1, 1, 1, 1, 1, 1,\n",
       "       1, 1, 1, 1, 1, 1, 0, 1, 1, 0, 1, 0, 1, 1, 0, 1, 1, 1, 1, 1, 1, 1,\n",
       "       1, 1, 1, 1, 1, 1, 1, 1, 1, 1, 1, 0, 1, 1, 1, 1, 1, 1, 0, 1, 1, 1,\n",
       "       1, 1, 1, 1, 1, 1, 1, 1, 1, 1, 1, 1, 1, 1, 1, 1, 1, 1, 1, 1, 1, 0,\n",
       "       1, 1, 1, 1, 1, 1, 1, 1, 0, 0, 0, 0, 0, 0, 0, 0, 0, 0, 0, 0, 0, 0,\n",
       "       0, 0, 0, 0, 0, 0, 0, 0, 0, 0, 0, 0, 0, 0, 0, 0, 0, 0, 0, 0, 0, 0,\n",
       "       0, 0, 0, 0, 0, 0, 0, 0, 0, 0, 0, 0, 0, 0, 0, 0, 0, 0, 0, 0, 0, 0,\n",
       "       0, 0, 0, 0, 0, 0, 0, 0, 0, 0, 0, 0, 0, 0, 0, 0, 0, 0, 0, 0, 0, 0,\n",
       "       0, 0, 0, 0, 1, 0, 0, 0, 0, 0, 0, 0, 0, 0, 0, 0, 0, 0, 0, 0, 0, 0,\n",
       "       0, 0, 0, 0, 0, 0, 0, 0, 0, 0, 0, 0, 0, 0, 0, 0, 0, 0, 0, 0, 0, 0,\n",
       "       0, 0, 0, 0, 0, 0, 0, 0, 0, 0, 0, 0, 0, 0, 0, 0, 0, 0, 0, 0, 0, 0,\n",
       "       0, 0, 0, 0], dtype=int64)"
      ]
     },
     "execution_count": 27,
     "metadata": {},
     "output_type": "execute_result"
    }
   ],
   "source": [
    "# test 100 records\n",
    "model.predict(X)\n"
   ]
  },
  {
   "cell_type": "code",
   "execution_count": null,
   "metadata": {},
   "outputs": [],
   "source": []
  }
 ],
 "metadata": {
  "kernelspec": {
   "display_name": "base",
   "language": "python",
   "name": "python3"
  },
  "language_info": {
   "codemirror_mode": {
    "name": "ipython",
    "version": 3
   },
   "file_extension": ".py",
   "mimetype": "text/x-python",
   "name": "python",
   "nbconvert_exporter": "python",
   "pygments_lexer": "ipython3",
   "version": "3.10.9"
  },
  "orig_nbformat": 4
 },
 "nbformat": 4,
 "nbformat_minor": 2
}
